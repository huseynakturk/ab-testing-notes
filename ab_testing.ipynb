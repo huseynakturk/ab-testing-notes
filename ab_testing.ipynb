{
 "cells": [
  {
   "attachments": {},
   "cell_type": "markdown",
   "metadata": {},
   "source": [
    "## **AB TESTING**"
   ]
  },
  {
   "attachments": {},
   "cell_type": "markdown",
   "metadata": {},
   "source": [
    "AB TESTİ: İki farklı değişkenin arasında karşılaştırma yapılmak istenildiğinde kullanılır.\n",
    "\n",
    "* Ortalama ve oran karşılaştırıldığında kullanılır.\n",
    "\n",
    "* A ve B ifadeleri kontrol grubu ve deney grubu anlamına gelir. \n",
    "\n",
    "* Test sonucundan elde edilen p değeri 0.05'den küçük olduğu zaman H0 iptal ediyoruz.\n"
   ]
  },
  {
   "attachments": {},
   "cell_type": "markdown",
   "metadata": {},
   "source": [
    "**Varsayımlar**: \n",
    "* Normallik varsayımı: İki dağılımın ağılımların normal olduğu varsayımı\n",
    "* Varyans homojenliği: İki grubun dağılımlarının benzer olup olmaması"
   ]
  },
  {
   "attachments": {},
   "cell_type": "markdown",
   "metadata": {},
   "source": [
    "**Süreç** \n",
    "\n",
    "1 - Hipotezi Kur\n",
    "\n",
    "2 - Varsayımları incele\n",
    "\n",
    "3 - Pvalue değerine göre yorumla"
   ]
  },
  {
   "cell_type": "code",
   "execution_count": 29,
   "metadata": {},
   "outputs": [],
   "source": [
    "## Bu çalışmada kullanacağımız kütüphanelerin import işlemini yapalım;\n",
    "import itertools \n",
    "import numpy as np\n",
    "import pandas as pd \n",
    "import matplotlib.pyplot as plt\n",
    "import seaborn as sns\n",
    "import statsmodels.stats.api as sms\n",
    "from scipy.stats import ttest_1samp,shapiro,levene,ttest_ind,mannwhitneyu \n",
    "from scipy.stats import pearsonr, spearmanr, kendalltau,f_oneway,kruskal\n",
    "from statsmodels.stats.proportion import proportions_ztest\n",
    "\n",
    "pd.set_option(\"display.max_columns\",None)\n",
    "pd.set_option(\"display.max_rows\",10)\n",
    "pd.set_option(\"display.float_format\", lambda x: \"%.5f\" %x)\n"
   ]
  },
  {
   "attachments": {},
   "cell_type": "markdown",
   "metadata": {},
   "source": [
    "--------"
   ]
  },
  {
   "attachments": {},
   "cell_type": "markdown",
   "metadata": {},
   "source": [
    "#### AB Testing (Bağımsız İki Örneklem T Testi)\n",
    "Oranları ve ortalamaları test ediyor olduğumuzda kullanırız.\n",
    "\n",
    "**SÜREÇ**\n",
    "1. Hipotezleri Kur\n",
    "2. Varsayım Kontrolü\n",
    "    - 1. Normallik Varsayımı\n",
    "    - 2. Varyans Homojenliği\n",
    "3. Hipotezin Uygulanması\n",
    "    - 1. Varsayımlar sağlanıyorsa bağımsız iki örneklem t testi (parametrik test)\n",
    "    - 2. Varsayımlar sağlanmıyorsa mannwhitneyu testi (non-parametrik test)\n",
    "4. p-value değerine göre sonuçları yorumla\n",
    "\n",
    "*Not: Normallik sağlanmıyorsa direk 2 numara. Varyans homojenliği sağlanmıyorsa 1 numaraya arguman girilir.Normallik incelemesi öncesi aykırı değer incelemesi ve düzeltmesi yapmak faydalı olabilir.*\n",
    "\n"
   ]
  },
  {
   "cell_type": "code",
   "execution_count": 30,
   "metadata": {},
   "outputs": [
    {
     "data": {
      "text/html": [
       "<div>\n",
       "<style scoped>\n",
       "    .dataframe tbody tr th:only-of-type {\n",
       "        vertical-align: middle;\n",
       "    }\n",
       "\n",
       "    .dataframe tbody tr th {\n",
       "        vertical-align: top;\n",
       "    }\n",
       "\n",
       "    .dataframe thead th {\n",
       "        text-align: right;\n",
       "    }\n",
       "</style>\n",
       "<table border=\"1\" class=\"dataframe\">\n",
       "  <thead>\n",
       "    <tr style=\"text-align: right;\">\n",
       "      <th></th>\n",
       "      <th>total_bill</th>\n",
       "      <th>tip</th>\n",
       "      <th>sex</th>\n",
       "      <th>smoker</th>\n",
       "      <th>day</th>\n",
       "      <th>time</th>\n",
       "      <th>size</th>\n",
       "    </tr>\n",
       "  </thead>\n",
       "  <tbody>\n",
       "    <tr>\n",
       "      <th>0</th>\n",
       "      <td>16.99000</td>\n",
       "      <td>1.01000</td>\n",
       "      <td>Female</td>\n",
       "      <td>No</td>\n",
       "      <td>Sun</td>\n",
       "      <td>Dinner</td>\n",
       "      <td>2</td>\n",
       "    </tr>\n",
       "    <tr>\n",
       "      <th>1</th>\n",
       "      <td>10.34000</td>\n",
       "      <td>1.66000</td>\n",
       "      <td>Male</td>\n",
       "      <td>No</td>\n",
       "      <td>Sun</td>\n",
       "      <td>Dinner</td>\n",
       "      <td>3</td>\n",
       "    </tr>\n",
       "    <tr>\n",
       "      <th>2</th>\n",
       "      <td>21.01000</td>\n",
       "      <td>3.50000</td>\n",
       "      <td>Male</td>\n",
       "      <td>No</td>\n",
       "      <td>Sun</td>\n",
       "      <td>Dinner</td>\n",
       "      <td>3</td>\n",
       "    </tr>\n",
       "    <tr>\n",
       "      <th>3</th>\n",
       "      <td>23.68000</td>\n",
       "      <td>3.31000</td>\n",
       "      <td>Male</td>\n",
       "      <td>No</td>\n",
       "      <td>Sun</td>\n",
       "      <td>Dinner</td>\n",
       "      <td>2</td>\n",
       "    </tr>\n",
       "    <tr>\n",
       "      <th>4</th>\n",
       "      <td>24.59000</td>\n",
       "      <td>3.61000</td>\n",
       "      <td>Female</td>\n",
       "      <td>No</td>\n",
       "      <td>Sun</td>\n",
       "      <td>Dinner</td>\n",
       "      <td>4</td>\n",
       "    </tr>\n",
       "  </tbody>\n",
       "</table>\n",
       "</div>"
      ],
      "text/plain": [
       "   total_bill     tip     sex smoker  day    time  size\n",
       "0    16.99000 1.01000  Female     No  Sun  Dinner     2\n",
       "1    10.34000 1.66000    Male     No  Sun  Dinner     3\n",
       "2    21.01000 3.50000    Male     No  Sun  Dinner     3\n",
       "3    23.68000 3.31000    Male     No  Sun  Dinner     2\n",
       "4    24.59000 3.61000  Female     No  Sun  Dinner     4"
      ]
     },
     "execution_count": 30,
     "metadata": {},
     "output_type": "execute_result"
    }
   ],
   "source": [
    "############################\n",
    "# Uygulama 1: Sigara İçenler ile İçmeyenlerin Hesap Ortalamaları Arasında İst Ol An Fark var mı?\n",
    "############################\n",
    "\n",
    "df = sns.load_dataset(\"tips\")\n",
    "df.head()"
   ]
  },
  {
   "cell_type": "code",
   "execution_count": 31,
   "metadata": {},
   "outputs": [
    {
     "data": {
      "text/html": [
       "<div>\n",
       "<style scoped>\n",
       "    .dataframe tbody tr th:only-of-type {\n",
       "        vertical-align: middle;\n",
       "    }\n",
       "\n",
       "    .dataframe tbody tr th {\n",
       "        vertical-align: top;\n",
       "    }\n",
       "\n",
       "    .dataframe thead th {\n",
       "        text-align: right;\n",
       "    }\n",
       "</style>\n",
       "<table border=\"1\" class=\"dataframe\">\n",
       "  <thead>\n",
       "    <tr style=\"text-align: right;\">\n",
       "      <th></th>\n",
       "      <th>total_bill</th>\n",
       "    </tr>\n",
       "    <tr>\n",
       "      <th>smoker</th>\n",
       "      <th></th>\n",
       "    </tr>\n",
       "  </thead>\n",
       "  <tbody>\n",
       "    <tr>\n",
       "      <th>Yes</th>\n",
       "      <td>20.75634</td>\n",
       "    </tr>\n",
       "    <tr>\n",
       "      <th>No</th>\n",
       "      <td>19.18828</td>\n",
       "    </tr>\n",
       "  </tbody>\n",
       "</table>\n",
       "</div>"
      ],
      "text/plain": [
       "        total_bill\n",
       "smoker            \n",
       "Yes       20.75634\n",
       "No        19.18828"
      ]
     },
     "execution_count": 31,
     "metadata": {},
     "output_type": "execute_result"
    }
   ],
   "source": [
    "# sigara içenlerin hesap oranını hesaplayalım; \n",
    "\n",
    "df.groupby(\"smoker\").agg({\"total_bill\":\"mean\"})"
   ]
  },
  {
   "cell_type": "code",
   "execution_count": 32,
   "metadata": {},
   "outputs": [
    {
     "name": "stdout",
     "output_type": "stream",
     "text": [
      "Test Stat = 0.9367, p-value = 0.0002\n"
     ]
    }
   ],
   "source": [
    "# 1. Hipotezi Kur\n",
    "# HO : M1 = M2\n",
    "# H1 : M1 != M2\n",
    "\n",
    "# 2. Varsayım Kontrolü\n",
    "# Normallik Varsayımı\n",
    "    #HO:Normallik sağlanmaktadır.\n",
    "    #H1:Normallik sağlanmamaktadır.\n",
    "\n",
    "# from scipy.stats import shapiro\n",
    "\n",
    "test_stat,pvalue = shapiro(df.loc[df[\"smoker\"] == \"Yes\",\"total_bill\"])\n",
    "print(\"Test Stat = %.4f, p-value = %.4f\"% (test_stat,pvalue))\n",
    "\n",
    "# p-value < ise 0.05'ten H0 RED\n",
    "# p-value < değilse 0.05 H= REDDEDİLEMEZ"
   ]
  },
  {
   "cell_type": "code",
   "execution_count": 33,
   "metadata": {},
   "outputs": [
    {
     "name": "stdout",
     "output_type": "stream",
     "text": [
      "Test Stat = 4.0537, p-value = 0.0452\n"
     ]
    }
   ],
   "source": [
    "# Varyans Homojenliği Varsayımı\n",
    "\n",
    "# HO: Varyanslar Homojendir.\n",
    "# H1: Varyanslar Homojen değildir.\n",
    "\n",
    "#from scipy.stats import levene\n",
    "\n",
    "test_stat,pvalue = levene(df.loc[df[\"smoker\"] == \"Yes\",\"total_bill\"],df.loc[df[\"smoker\"] == \"No\",\"total_bill\"])\n",
    "print(\"Test Stat = %.4f, p-value = %.4f\"% (test_stat,pvalue))\n",
    "\n"
   ]
  },
  {
   "cell_type": "code",
   "execution_count": 34,
   "metadata": {},
   "outputs": [],
   "source": [
    "# Hipotezin uygulanması\n",
    "\n",
    "# 1.Varsayımlar sağlanıyorsa bağımsız iki örneklem t testi (parametrik test)\n",
    "# 2.Varsayımlar sağlanmıyorsa mannwhitneyu testi (non-parametrik test)\n"
   ]
  },
  {
   "cell_type": "code",
   "execution_count": 35,
   "metadata": {},
   "outputs": [
    {
     "name": "stdout",
     "output_type": "stream",
     "text": [
      "Test Stat = 1.3384, p-value = 0.1820\n"
     ]
    }
   ],
   "source": [
    "## Durum varsayımların sağlandığı durum.\n",
    "# varyans homojenliği sağlanmadığı zaman equal_var = False olur.\n",
    "\n",
    "# from scipy stats import ttest_ind\n",
    "\n",
    "test_stat,pvalue = ttest_ind(df.loc[df[\"smoker\"] == \"Yes\",\"total_bill\"],\n",
    "                             df.loc[df[\"smoker\"] == \"No\",\"total_bill\"], equal_var=True)\n",
    "print(\"Test Stat = %.4f, p-value = %.4f\"% (test_stat,pvalue))\n",
    "\n",
    "#! H0 RED."
   ]
  },
  {
   "cell_type": "code",
   "execution_count": 36,
   "metadata": {},
   "outputs": [
    {
     "name": "stdout",
     "output_type": "stream",
     "text": [
      "Test Stat = 7531.5000, p-value = 0.3413\n"
     ]
    }
   ],
   "source": [
    "## Durum varsayımların sağlanmadığı durum.\n",
    "# nonparametrik ortlaama kıyasalama, medyan kıyasalama testi \n",
    "\n",
    "test_stat,pvalue = mannwhitneyu(df.loc[df[\"smoker\"] == \"Yes\",\"total_bill\"],\n",
    "                             df.loc[df[\"smoker\"] == \"No\",\"total_bill\"])\n",
    "print(\"Test Stat = %.4f, p-value = %.4f\"% (test_stat,pvalue))\n"
   ]
  },
  {
   "cell_type": "code",
   "execution_count": 37,
   "metadata": {},
   "outputs": [
    {
     "data": {
      "text/html": [
       "<div>\n",
       "<style scoped>\n",
       "    .dataframe tbody tr th:only-of-type {\n",
       "        vertical-align: middle;\n",
       "    }\n",
       "\n",
       "    .dataframe tbody tr th {\n",
       "        vertical-align: top;\n",
       "    }\n",
       "\n",
       "    .dataframe thead th {\n",
       "        text-align: right;\n",
       "    }\n",
       "</style>\n",
       "<table border=\"1\" class=\"dataframe\">\n",
       "  <thead>\n",
       "    <tr style=\"text-align: right;\">\n",
       "      <th></th>\n",
       "      <th>survived</th>\n",
       "      <th>pclass</th>\n",
       "      <th>sex</th>\n",
       "      <th>age</th>\n",
       "      <th>sibsp</th>\n",
       "      <th>parch</th>\n",
       "      <th>fare</th>\n",
       "      <th>embarked</th>\n",
       "      <th>class</th>\n",
       "      <th>who</th>\n",
       "      <th>adult_male</th>\n",
       "      <th>deck</th>\n",
       "      <th>embark_town</th>\n",
       "      <th>alive</th>\n",
       "      <th>alone</th>\n",
       "    </tr>\n",
       "  </thead>\n",
       "  <tbody>\n",
       "    <tr>\n",
       "      <th>0</th>\n",
       "      <td>0</td>\n",
       "      <td>3</td>\n",
       "      <td>male</td>\n",
       "      <td>22.00000</td>\n",
       "      <td>1</td>\n",
       "      <td>0</td>\n",
       "      <td>7.25000</td>\n",
       "      <td>S</td>\n",
       "      <td>Third</td>\n",
       "      <td>man</td>\n",
       "      <td>True</td>\n",
       "      <td>NaN</td>\n",
       "      <td>Southampton</td>\n",
       "      <td>no</td>\n",
       "      <td>False</td>\n",
       "    </tr>\n",
       "    <tr>\n",
       "      <th>1</th>\n",
       "      <td>1</td>\n",
       "      <td>1</td>\n",
       "      <td>female</td>\n",
       "      <td>38.00000</td>\n",
       "      <td>1</td>\n",
       "      <td>0</td>\n",
       "      <td>71.28330</td>\n",
       "      <td>C</td>\n",
       "      <td>First</td>\n",
       "      <td>woman</td>\n",
       "      <td>False</td>\n",
       "      <td>C</td>\n",
       "      <td>Cherbourg</td>\n",
       "      <td>yes</td>\n",
       "      <td>False</td>\n",
       "    </tr>\n",
       "    <tr>\n",
       "      <th>2</th>\n",
       "      <td>1</td>\n",
       "      <td>3</td>\n",
       "      <td>female</td>\n",
       "      <td>26.00000</td>\n",
       "      <td>0</td>\n",
       "      <td>0</td>\n",
       "      <td>7.92500</td>\n",
       "      <td>S</td>\n",
       "      <td>Third</td>\n",
       "      <td>woman</td>\n",
       "      <td>False</td>\n",
       "      <td>NaN</td>\n",
       "      <td>Southampton</td>\n",
       "      <td>yes</td>\n",
       "      <td>True</td>\n",
       "    </tr>\n",
       "    <tr>\n",
       "      <th>3</th>\n",
       "      <td>1</td>\n",
       "      <td>1</td>\n",
       "      <td>female</td>\n",
       "      <td>35.00000</td>\n",
       "      <td>1</td>\n",
       "      <td>0</td>\n",
       "      <td>53.10000</td>\n",
       "      <td>S</td>\n",
       "      <td>First</td>\n",
       "      <td>woman</td>\n",
       "      <td>False</td>\n",
       "      <td>C</td>\n",
       "      <td>Southampton</td>\n",
       "      <td>yes</td>\n",
       "      <td>False</td>\n",
       "    </tr>\n",
       "    <tr>\n",
       "      <th>4</th>\n",
       "      <td>0</td>\n",
       "      <td>3</td>\n",
       "      <td>male</td>\n",
       "      <td>35.00000</td>\n",
       "      <td>0</td>\n",
       "      <td>0</td>\n",
       "      <td>8.05000</td>\n",
       "      <td>S</td>\n",
       "      <td>Third</td>\n",
       "      <td>man</td>\n",
       "      <td>True</td>\n",
       "      <td>NaN</td>\n",
       "      <td>Southampton</td>\n",
       "      <td>no</td>\n",
       "      <td>True</td>\n",
       "    </tr>\n",
       "  </tbody>\n",
       "</table>\n",
       "</div>"
      ],
      "text/plain": [
       "   survived  pclass     sex      age  sibsp  parch     fare embarked  class  \\\n",
       "0         0       3    male 22.00000      1      0  7.25000        S  Third   \n",
       "1         1       1  female 38.00000      1      0 71.28330        C  First   \n",
       "2         1       3  female 26.00000      0      0  7.92500        S  Third   \n",
       "3         1       1  female 35.00000      1      0 53.10000        S  First   \n",
       "4         0       3    male 35.00000      0      0  8.05000        S  Third   \n",
       "\n",
       "     who  adult_male deck  embark_town alive  alone  \n",
       "0    man        True  NaN  Southampton    no  False  \n",
       "1  woman       False    C    Cherbourg   yes  False  \n",
       "2  woman       False  NaN  Southampton   yes   True  \n",
       "3  woman       False    C  Southampton   yes  False  \n",
       "4    man        True  NaN  Southampton    no   True  "
      ]
     },
     "execution_count": 37,
     "metadata": {},
     "output_type": "execute_result"
    }
   ],
   "source": [
    "# Uygulama 2: Titanic Kadın ve Erkek Yolcuların Yaş Ortalamaları Arasında İstatistiksel Olarak Anl. Fark. var mıdır?\n",
    "\n",
    "# veri setinin import edilmesi\n",
    "\n",
    "df = sns.load_dataset(\"titanic\")\n",
    "\n",
    "df.head()"
   ]
  },
  {
   "cell_type": "code",
   "execution_count": 38,
   "metadata": {},
   "outputs": [
    {
     "name": "stdout",
     "output_type": "stream",
     "text": [
      "t_test : 0.9848\n",
      "p_value :0.0071\n"
     ]
    }
   ],
   "source": [
    "# varsayım kontrolü 1.\n",
    "\n",
    "# normallik varsayımı | shapiro\n",
    "\n",
    "# h0 : normal dağılmıştır.\n",
    "# h1 : normal dağılmamıştır.\n",
    "\n",
    "df.dropna()\n",
    "from scipy.stats import shapiro\n",
    "\n",
    "t_test,p_value = shapiro(df.loc[df[\"sex\"] == \"female\",\"age\"].dropna())\n",
    "print(\"t_test : %.4f\\np_value :%.4f\"%(t_test,p_value))\n",
    "\n",
    "# ho red .\n",
    "# normal dağılmamıştır.\n"
   ]
  },
  {
   "cell_type": "code",
   "execution_count": 39,
   "metadata": {},
   "outputs": [
    {
     "name": "stdout",
     "output_type": "stream",
     "text": [
      "t_stats: 0.0013\n",
      "p_value: 0.9712\n"
     ]
    }
   ],
   "source": [
    "# varyans homojenliği varsayımı |\n",
    "\n",
    "# ho: homojendir.\n",
    "# h1: homojen değildir.\n",
    "\n",
    "from scipy.stats import levene\n",
    "\n",
    "\n",
    "t_stats,p_value = levene(df.loc[df[\"sex\"] == \"female\",\"age\"].dropna(),df.loc[df[\"sex\"] == \"male\",\"age\"].dropna())\n",
    "print(\"t_stats: %.4f\\np_value: %.4f\" %(t_stats,p_value))\n",
    "\n",
    "# h0 red edilemez \n",
    "# homojen dağılmıştır."
   ]
  },
  {
   "cell_type": "code",
   "execution_count": 40,
   "metadata": {},
   "outputs": [
    {
     "name": "stdout",
     "output_type": "stream",
     "text": [
      "t_stats: -2.4992\n",
      "p_value: 0.0127\n"
     ]
    }
   ],
   "source": [
    "# normallik varsayımı sağlansaydı\n",
    "\n",
    "# hipotezlerin kurulması\n",
    "# yolcuların cinsiyet ve yaş ortalaması hakkında istatiksel bir anlam farklılığı var mıdır ?\n",
    "\n",
    "\n",
    "# H0 : Anlam farklılığı yoktur.\n",
    "# H1 : Anlam farklılığı vardır.\n",
    "\n",
    "from scipy.stats import ttest_ind\n",
    "\n",
    "\n",
    "\n",
    "t_stats,p_value = ttest_ind(df.loc[df[\"sex\"]==\"female\",\"age\"].dropna(),df.loc[df[\"sex\"]==\"male\",\"age\"].dropna(),equal_var=True)\n",
    "\n",
    "print(\"t_stats: %.4f\\np_value: %.4f\" %(t_stats,p_value))\n",
    "\n",
    "# p < 0.05 bu sebepten h0 red\n",
    "# Anlam farklılığı vardır. "
   ]
  },
  {
   "cell_type": "code",
   "execution_count": 41,
   "metadata": {},
   "outputs": [
    {
     "name": "stdout",
     "output_type": "stream",
     "text": [
      "t_stats: 53212.5000\n",
      "p_value: 0.0261\n"
     ]
    }
   ],
   "source": [
    "# nanparametrik\n",
    "\n",
    "\n",
    "from scipy.stats import mannwhitneyu\n",
    "\n",
    "t_stats,p_value = mannwhitneyu(df.loc[df[\"sex\"]==\"female\",\"age\"].dropna(),df.loc[df[\"sex\"]==\"male\",\"age\"].dropna())\n",
    "print(\"t_stats: %.4f\\np_value: %.4f\" %(t_stats,p_value))\n",
    "\n",
    "# HO red \n",
    "# anlamlı bir farklılık vardır."
   ]
  },
  {
   "cell_type": "code",
   "execution_count": 42,
   "metadata": {},
   "outputs": [
    {
     "data": {
      "text/html": [
       "<div>\n",
       "<style scoped>\n",
       "    .dataframe tbody tr th:only-of-type {\n",
       "        vertical-align: middle;\n",
       "    }\n",
       "\n",
       "    .dataframe tbody tr th {\n",
       "        vertical-align: top;\n",
       "    }\n",
       "\n",
       "    .dataframe thead th {\n",
       "        text-align: right;\n",
       "    }\n",
       "</style>\n",
       "<table border=\"1\" class=\"dataframe\">\n",
       "  <thead>\n",
       "    <tr style=\"text-align: right;\">\n",
       "      <th></th>\n",
       "      <th>Pregnancies</th>\n",
       "      <th>Glucose</th>\n",
       "      <th>BloodPressure</th>\n",
       "      <th>SkinThickness</th>\n",
       "      <th>Insulin</th>\n",
       "      <th>BMI</th>\n",
       "      <th>DiabetesPedigreeFunction</th>\n",
       "      <th>Age</th>\n",
       "      <th>Outcome</th>\n",
       "    </tr>\n",
       "  </thead>\n",
       "  <tbody>\n",
       "    <tr>\n",
       "      <th>0</th>\n",
       "      <td>6</td>\n",
       "      <td>148</td>\n",
       "      <td>72</td>\n",
       "      <td>35</td>\n",
       "      <td>0</td>\n",
       "      <td>33.60000</td>\n",
       "      <td>0.62700</td>\n",
       "      <td>50</td>\n",
       "      <td>1</td>\n",
       "    </tr>\n",
       "    <tr>\n",
       "      <th>1</th>\n",
       "      <td>1</td>\n",
       "      <td>85</td>\n",
       "      <td>66</td>\n",
       "      <td>29</td>\n",
       "      <td>0</td>\n",
       "      <td>26.60000</td>\n",
       "      <td>0.35100</td>\n",
       "      <td>31</td>\n",
       "      <td>0</td>\n",
       "    </tr>\n",
       "    <tr>\n",
       "      <th>2</th>\n",
       "      <td>8</td>\n",
       "      <td>183</td>\n",
       "      <td>64</td>\n",
       "      <td>0</td>\n",
       "      <td>0</td>\n",
       "      <td>23.30000</td>\n",
       "      <td>0.67200</td>\n",
       "      <td>32</td>\n",
       "      <td>1</td>\n",
       "    </tr>\n",
       "    <tr>\n",
       "      <th>3</th>\n",
       "      <td>1</td>\n",
       "      <td>89</td>\n",
       "      <td>66</td>\n",
       "      <td>23</td>\n",
       "      <td>94</td>\n",
       "      <td>28.10000</td>\n",
       "      <td>0.16700</td>\n",
       "      <td>21</td>\n",
       "      <td>0</td>\n",
       "    </tr>\n",
       "    <tr>\n",
       "      <th>4</th>\n",
       "      <td>0</td>\n",
       "      <td>137</td>\n",
       "      <td>40</td>\n",
       "      <td>35</td>\n",
       "      <td>168</td>\n",
       "      <td>43.10000</td>\n",
       "      <td>2.28800</td>\n",
       "      <td>33</td>\n",
       "      <td>1</td>\n",
       "    </tr>\n",
       "  </tbody>\n",
       "</table>\n",
       "</div>"
      ],
      "text/plain": [
       "   Pregnancies  Glucose  BloodPressure  SkinThickness  Insulin      BMI  \\\n",
       "0            6      148             72             35        0 33.60000   \n",
       "1            1       85             66             29        0 26.60000   \n",
       "2            8      183             64              0        0 23.30000   \n",
       "3            1       89             66             23       94 28.10000   \n",
       "4            0      137             40             35      168 43.10000   \n",
       "\n",
       "   DiabetesPedigreeFunction  Age  Outcome  \n",
       "0                   0.62700   50        1  \n",
       "1                   0.35100   31        0  \n",
       "2                   0.67200   32        1  \n",
       "3                   0.16700   21        0  \n",
       "4                   2.28800   33        1  "
      ]
     },
     "execution_count": 42,
     "metadata": {},
     "output_type": "execute_result"
    }
   ],
   "source": [
    "############################\n",
    "# Uygulama 3: Diyabet Hastası Olan ve Olmayanların Yaşları Ort. Arasında İst. Ol. Anl. Fark var mıdır?\n",
    "############################\n",
    "\n",
    "# Veri setinin tanımlayalım;\n",
    "\n",
    "df = pd.read_csv(r\"C:\\Users\\kkakt\\Desktop\\Measurement Problems\\datasets\\diabetes.csv\")\n",
    "\n",
    "df.head()\n"
   ]
  },
  {
   "cell_type": "code",
   "execution_count": 43,
   "metadata": {},
   "outputs": [
    {
     "data": {
      "text/html": [
       "<div>\n",
       "<style scoped>\n",
       "    .dataframe tbody tr th:only-of-type {\n",
       "        vertical-align: middle;\n",
       "    }\n",
       "\n",
       "    .dataframe tbody tr th {\n",
       "        vertical-align: top;\n",
       "    }\n",
       "\n",
       "    .dataframe thead th {\n",
       "        text-align: right;\n",
       "    }\n",
       "</style>\n",
       "<table border=\"1\" class=\"dataframe\">\n",
       "  <thead>\n",
       "    <tr style=\"text-align: right;\">\n",
       "      <th></th>\n",
       "      <th>Age</th>\n",
       "    </tr>\n",
       "    <tr>\n",
       "      <th>Outcome</th>\n",
       "      <th></th>\n",
       "    </tr>\n",
       "  </thead>\n",
       "  <tbody>\n",
       "    <tr>\n",
       "      <th>0</th>\n",
       "      <td>31.19000</td>\n",
       "    </tr>\n",
       "    <tr>\n",
       "      <th>1</th>\n",
       "      <td>37.06716</td>\n",
       "    </tr>\n",
       "  </tbody>\n",
       "</table>\n",
       "</div>"
      ],
      "text/plain": [
       "             Age\n",
       "Outcome         \n",
       "0       31.19000\n",
       "1       37.06716"
      ]
     },
     "execution_count": 43,
     "metadata": {},
     "output_type": "execute_result"
    }
   ],
   "source": [
    "# değişkenlerin istatiksel betimlenmesini inceleyelim;\n",
    "\n",
    "df.groupby(\"Outcome\").agg({\"Age\":\"mean\"})\n",
    "\n"
   ]
  },
  {
   "cell_type": "code",
   "execution_count": 44,
   "metadata": {},
   "outputs": [
    {
     "name": "stdout",
     "output_type": "stream",
     "text": [
      "0\n",
      "t_test: 0.8012 \n",
      "p_value: 0.0000\n",
      "1\n",
      "t_test: 0.9546 \n",
      "p_value: 0.0000\n"
     ]
    }
   ],
   "source": [
    "# normallik varsayımı\n",
    "\n",
    "#ho: dağılım normaldir.\n",
    "#ho: dağılım normal değildir.\n",
    "\n",
    "from scipy.stats import shapiro\n",
    "\n",
    "t_test,p_value = shapiro(df.loc [df[\"Outcome\"]== 0,\"Age\"])\n",
    "\n",
    "print(\"0\\nt_test: %.4f \\np_value: %.4f\" %(t_test,p_value))\n",
    "\n",
    "t_test,p_value = shapiro(df.loc [df[\"Outcome\"]== 1,\"Age\"])\n",
    "\n",
    "print(\"1\\nt_test: %.4f \\np_value: %.4f\" %(t_test,p_value))\n",
    "\n",
    "# p<0.05 yani ho red.\n",
    "# dağılım normal değil.\n"
   ]
  },
  {
   "cell_type": "code",
   "execution_count": 45,
   "metadata": {},
   "outputs": [
    {
     "name": "stdout",
     "output_type": "stream",
     "text": [
      "t_test: 2.2252 \n",
      "p_value: 0.1362\n"
     ]
    }
   ],
   "source": [
    "# normal dağılmadığı için gerek yok ama yine de; \n",
    "# homomjenlik varsayımı\n",
    "\n",
    "# ho: homojendir.\n",
    "# h1: homojen değildir.\n",
    "\n",
    "from scipy.stats import levene\n",
    "\n",
    "t_test,p_value = levene(df.loc [df[\"Outcome\"]== 0,\"Age\"],df.loc [df[\"Outcome\"]== 1,\"Age\"])\n",
    "\n",
    "print(\"t_test: %.4f \\np_value: %.4f\" %(t_test,p_value))\n",
    "\n",
    "# p>0.05 h0 red edilemez\n",
    "# homojendir.\n"
   ]
  },
  {
   "cell_type": "code",
   "execution_count": 46,
   "metadata": {},
   "outputs": [
    {
     "name": "stdout",
     "output_type": "stream",
     "text": [
      "t_test: 92050.0000 \n",
      "p_value: 0.0000\n"
     ]
    }
   ],
   "source": [
    "#! Nonparametrik test uygulacağız (mannwitneyu)\n",
    "\n",
    "\n",
    "\n",
    "# h0: m1 = m2   ==> anlamlı bir farklılık yoktur\n",
    "# h1: m1 != m2  ==>anlamlı bir farklılık vardır.\n",
    "\n",
    "from scipy.stats import mannwhitneyu\n",
    "\n",
    "t_test,p_value = mannwhitneyu(df.loc [df[\"Outcome\"]==1,\"Age\"],df.loc [df[\"Outcome\"]==0,\"Age\"])\n",
    "\n",
    "print(\"t_test: %.4f \\np_value: %.4f\" %(t_test,p_value))\n",
    "\n",
    "# ho red edilir\n",
    "# yaş değişkeni ile diyabet hastalığı arasında anlamlı bir farklılık vardır.\n",
    "\n"
   ]
  },
  {
   "cell_type": "code",
   "execution_count": 47,
   "metadata": {},
   "outputs": [
    {
     "name": "stdout",
     "output_type": "stream",
     "text": [
      "t_test: 6.7927 \n",
      "p_value: 0.0000\n"
     ]
    }
   ],
   "source": [
    "#! normal dağıldığını varsaydığımız senaryoda\n",
    "\n",
    "\n",
    "\n",
    "# h0: m1 = m2   ==> anlamlı bir farklılık yoktur\n",
    "# h1: m1 != m2  ==>anlamlı bir farklılık vardır.\n",
    "\n",
    "from scipy.stats import ttest_ind\n",
    "\n",
    "t_test,p_value = ttest_ind(df.loc [df[\"Outcome\"]==1,\"Age\"],df.loc [df[\"Outcome\"]==0,\"Age\"])\n",
    "\n",
    "print(\"t_test: %.4f \\np_value: %.4f\" %(t_test,p_value))\n",
    "\n",
    "# ho red edilir\n",
    "# yaş değişkeni ile diyabet hastalığı arasında anlamlı bir farklılık vardır."
   ]
  },
  {
   "cell_type": "code",
   "execution_count": 48,
   "metadata": {},
   "outputs": [
    {
     "data": {
      "text/html": [
       "<div>\n",
       "<style scoped>\n",
       "    .dataframe tbody tr th:only-of-type {\n",
       "        vertical-align: middle;\n",
       "    }\n",
       "\n",
       "    .dataframe tbody tr th {\n",
       "        vertical-align: top;\n",
       "    }\n",
       "\n",
       "    .dataframe thead th {\n",
       "        text-align: right;\n",
       "    }\n",
       "</style>\n",
       "<table border=\"1\" class=\"dataframe\">\n",
       "  <thead>\n",
       "    <tr style=\"text-align: right;\">\n",
       "      <th></th>\n",
       "      <th>Rating</th>\n",
       "      <th>Timestamp</th>\n",
       "      <th>Enrolled</th>\n",
       "      <th>Progress</th>\n",
       "      <th>Questions Asked</th>\n",
       "      <th>Questions Answered</th>\n",
       "    </tr>\n",
       "  </thead>\n",
       "  <tbody>\n",
       "    <tr>\n",
       "      <th>0</th>\n",
       "      <td>5.00000</td>\n",
       "      <td>2021-02-05 07:45:55</td>\n",
       "      <td>2021-01-25 15:12:08</td>\n",
       "      <td>5.00000</td>\n",
       "      <td>0.00000</td>\n",
       "      <td>0.00000</td>\n",
       "    </tr>\n",
       "    <tr>\n",
       "      <th>1</th>\n",
       "      <td>5.00000</td>\n",
       "      <td>2021-02-04 21:05:32</td>\n",
       "      <td>2021-02-04 20:43:40</td>\n",
       "      <td>1.00000</td>\n",
       "      <td>0.00000</td>\n",
       "      <td>0.00000</td>\n",
       "    </tr>\n",
       "    <tr>\n",
       "      <th>2</th>\n",
       "      <td>4.50000</td>\n",
       "      <td>2021-02-04 20:34:03</td>\n",
       "      <td>2019-07-04 23:23:27</td>\n",
       "      <td>1.00000</td>\n",
       "      <td>0.00000</td>\n",
       "      <td>0.00000</td>\n",
       "    </tr>\n",
       "    <tr>\n",
       "      <th>3</th>\n",
       "      <td>5.00000</td>\n",
       "      <td>2021-02-04 16:56:28</td>\n",
       "      <td>2021-02-04 14:41:29</td>\n",
       "      <td>10.00000</td>\n",
       "      <td>0.00000</td>\n",
       "      <td>0.00000</td>\n",
       "    </tr>\n",
       "    <tr>\n",
       "      <th>4</th>\n",
       "      <td>4.00000</td>\n",
       "      <td>2021-02-04 15:00:24</td>\n",
       "      <td>2020-10-13 03:10:07</td>\n",
       "      <td>10.00000</td>\n",
       "      <td>0.00000</td>\n",
       "      <td>0.00000</td>\n",
       "    </tr>\n",
       "  </tbody>\n",
       "</table>\n",
       "</div>"
      ],
      "text/plain": [
       "   Rating            Timestamp             Enrolled  Progress  \\\n",
       "0 5.00000  2021-02-05 07:45:55  2021-01-25 15:12:08   5.00000   \n",
       "1 5.00000  2021-02-04 21:05:32  2021-02-04 20:43:40   1.00000   \n",
       "2 4.50000  2021-02-04 20:34:03  2019-07-04 23:23:27   1.00000   \n",
       "3 5.00000  2021-02-04 16:56:28  2021-02-04 14:41:29  10.00000   \n",
       "4 4.00000  2021-02-04 15:00:24  2020-10-13 03:10:07  10.00000   \n",
       "\n",
       "   Questions Asked  Questions Answered  \n",
       "0          0.00000             0.00000  \n",
       "1          0.00000             0.00000  \n",
       "2          0.00000             0.00000  \n",
       "3          0.00000             0.00000  \n",
       "4          0.00000             0.00000  "
      ]
     },
     "execution_count": 48,
     "metadata": {},
     "output_type": "execute_result"
    }
   ],
   "source": [
    "###################################################\n",
    "# İş Problemi: Kursun Büyük Çoğunluğunu İzleyenler ile İzlemeyenlerin Puanları Birbirinden Farklı mı?\n",
    "###################################################\n",
    "\n",
    "\n",
    "# H0: M1 = M2 (... iki grup ortalamaları arasında ist ol.anl.fark yoktur.)\n",
    "# H1: M1 != M2 (...vardır)\n",
    "\n",
    "df = pd.read_csv(r\"C:\\Users\\kkakt\\Desktop\\Measurement Problems\\datasets\\course_reviews.csv\")\n",
    "df.head()"
   ]
  },
  {
   "cell_type": "code",
   "execution_count": 49,
   "metadata": {},
   "outputs": [
    {
     "data": {
      "text/html": [
       "<div>\n",
       "<style scoped>\n",
       "    .dataframe tbody tr th:only-of-type {\n",
       "        vertical-align: middle;\n",
       "    }\n",
       "\n",
       "    .dataframe tbody tr th {\n",
       "        vertical-align: top;\n",
       "    }\n",
       "\n",
       "    .dataframe thead th {\n",
       "        text-align: right;\n",
       "    }\n",
       "</style>\n",
       "<table border=\"1\" class=\"dataframe\">\n",
       "  <thead>\n",
       "    <tr style=\"text-align: right;\">\n",
       "      <th></th>\n",
       "      <th>Progress</th>\n",
       "    </tr>\n",
       "    <tr>\n",
       "      <th>Rating</th>\n",
       "      <th></th>\n",
       "    </tr>\n",
       "  </thead>\n",
       "  <tbody>\n",
       "    <tr>\n",
       "      <th>1.00000</th>\n",
       "      <td>42.86667</td>\n",
       "    </tr>\n",
       "    <tr>\n",
       "      <th>1.50000</th>\n",
       "      <td>4.50000</td>\n",
       "    </tr>\n",
       "    <tr>\n",
       "      <th>2.00000</th>\n",
       "      <td>14.08333</td>\n",
       "    </tr>\n",
       "    <tr>\n",
       "      <th>2.50000</th>\n",
       "      <td>31.18182</td>\n",
       "    </tr>\n",
       "    <tr>\n",
       "      <th>3.00000</th>\n",
       "      <td>17.83871</td>\n",
       "    </tr>\n",
       "    <tr>\n",
       "      <th>3.50000</th>\n",
       "      <td>17.64583</td>\n",
       "    </tr>\n",
       "    <tr>\n",
       "      <th>4.00000</th>\n",
       "      <td>17.88773</td>\n",
       "    </tr>\n",
       "    <tr>\n",
       "      <th>4.50000</th>\n",
       "      <td>23.01263</td>\n",
       "    </tr>\n",
       "    <tr>\n",
       "      <th>5.00000</th>\n",
       "      <td>29.33242</td>\n",
       "    </tr>\n",
       "  </tbody>\n",
       "</table>\n",
       "</div>"
      ],
      "text/plain": [
       "         Progress\n",
       "Rating           \n",
       "1.00000  42.86667\n",
       "1.50000   4.50000\n",
       "2.00000  14.08333\n",
       "2.50000  31.18182\n",
       "3.00000  17.83871\n",
       "3.50000  17.64583\n",
       "4.00000  17.88773\n",
       "4.50000  23.01263\n",
       "5.00000  29.33242"
      ]
     },
     "execution_count": 49,
     "metadata": {},
     "output_type": "execute_result"
    }
   ],
   "source": [
    "# ilgilenilen değişkenlerin istatiksel betimlemeleri\n",
    "\n",
    "df.groupby(\"Rating\").agg({\"Progress\": \"mean\"})"
   ]
  },
  {
   "cell_type": "code",
   "execution_count": 50,
   "metadata": {},
   "outputs": [
    {
     "name": "stdout",
     "output_type": "stream",
     "text": [
      "t_test: 6.7927 \n",
      "p_value: 0.0000\n"
     ]
    }
   ],
   "source": [
    "# normallik varsayımı\n",
    "\n",
    "df[(df[\"Progress\"] > 75)][\"Rating\"].mean()\n",
    "df[(df[\"Progress\"] > 25)][\"Rating\"].mean()\n",
    "\n",
    "test_stat, pvalue = shapiro(df[(df[\"Progress\"] > 75)][\"Rating\"])\n",
    "\n",
    "print(\"t_test: %.4f \\np_value: %.4f\" %(t_test,p_value))\n",
    "\n",
    "# ho red normal dağılmamıştır.\n"
   ]
  },
  {
   "cell_type": "code",
   "execution_count": 51,
   "metadata": {},
   "outputs": [
    {
     "name": "stdout",
     "output_type": "stream",
     "text": [
      "t_test: 6.7927 \n",
      "p_value: 0.0000\n"
     ]
    }
   ],
   "source": [
    "# nonparametrik varsayımı\n",
    "\n",
    "df[(df[\"Progress\"] > 75)][\"Rating\"].mean()\n",
    "df[(df[\"Progress\"] > 25)][\"Rating\"].mean()\n",
    "\n",
    "\n",
    "\n",
    "test_stat, pvalue = mannwhitneyu(df[(df[\"Progress\"] > 75)][\"Rating\"],df[(df[\"Progress\"] > 25)][\"Rating\"])\n",
    "\n",
    "print(\"t_test: %.4f \\np_value: %.4f\" %(t_test,p_value))\n",
    "\n",
    "\n",
    "\n",
    "# ilerleme ve puanlama arasında bir ilişki vardır."
   ]
  },
  {
   "attachments": {},
   "cell_type": "markdown",
   "metadata": {},
   "source": [
    "------"
   ]
  },
  {
   "attachments": {},
   "cell_type": "markdown",
   "metadata": {},
   "source": [
    "#### AB Testing (Bağımsız İki Örneklem T Testi)\n",
    "\n",
    "varsayım: \n",
    "**n>30 olması gereklidir.**\n",
    "    "
   ]
  },
  {
   "cell_type": "code",
   "execution_count": 52,
   "metadata": {},
   "outputs": [],
   "source": [
    "# veri setini oluşturalım ve hipotezimizi kuralım\n",
    "\n",
    "# iş problemi : eski tasarım ve yeni tasraım arasındaki tıklanma sayısı arasında bir ilişki var mı ? \n",
    "\n",
    "# H0: p1 = p2\n",
    "# Yeni Tasarımın Dönüşüm Oranı ile Eski Tasarımın Dönüşüm Oranı Arasında İst. Ol. Anlamlı Farklılık Yoktur.\n",
    "# H1: p1 != p2\n",
    "# ... vardır\n",
    "\n",
    "basari_sayisi = np.array([300, 250])\n",
    "gozlem_sayilari = np.array([1000, 1100])\n",
    "\n",
    "# array'lere koy ve gönder\n"
   ]
  },
  {
   "cell_type": "code",
   "execution_count": 53,
   "metadata": {},
   "outputs": [
    {
     "data": {
      "text/plain": [
       "(3.7857863233209255, 0.0001532232957772221)"
      ]
     },
     "execution_count": 53,
     "metadata": {},
     "output_type": "execute_result"
    }
   ],
   "source": [
    "# AB Oran testinin uygulanması\n",
    "\n",
    "from statsmodels.stats.proportion import proportions_ztest\n",
    "\n",
    "proportions_ztest(count=basari_sayisi,nobs=gozlem_sayilari)\n",
    "\n",
    "# h0 red\n",
    "# ilişki vardır."
   ]
  },
  {
   "cell_type": "code",
   "execution_count": 54,
   "metadata": {},
   "outputs": [
    {
     "data": {
      "text/html": [
       "<div>\n",
       "<style scoped>\n",
       "    .dataframe tbody tr th:only-of-type {\n",
       "        vertical-align: middle;\n",
       "    }\n",
       "\n",
       "    .dataframe tbody tr th {\n",
       "        vertical-align: top;\n",
       "    }\n",
       "\n",
       "    .dataframe thead th {\n",
       "        text-align: right;\n",
       "    }\n",
       "</style>\n",
       "<table border=\"1\" class=\"dataframe\">\n",
       "  <thead>\n",
       "    <tr style=\"text-align: right;\">\n",
       "      <th></th>\n",
       "      <th>survived</th>\n",
       "      <th>pclass</th>\n",
       "      <th>sex</th>\n",
       "      <th>age</th>\n",
       "      <th>sibsp</th>\n",
       "      <th>parch</th>\n",
       "      <th>fare</th>\n",
       "      <th>embarked</th>\n",
       "      <th>class</th>\n",
       "      <th>who</th>\n",
       "      <th>adult_male</th>\n",
       "      <th>deck</th>\n",
       "      <th>embark_town</th>\n",
       "      <th>alive</th>\n",
       "      <th>alone</th>\n",
       "    </tr>\n",
       "  </thead>\n",
       "  <tbody>\n",
       "    <tr>\n",
       "      <th>0</th>\n",
       "      <td>0</td>\n",
       "      <td>3</td>\n",
       "      <td>male</td>\n",
       "      <td>22.00000</td>\n",
       "      <td>1</td>\n",
       "      <td>0</td>\n",
       "      <td>7.25000</td>\n",
       "      <td>S</td>\n",
       "      <td>Third</td>\n",
       "      <td>man</td>\n",
       "      <td>True</td>\n",
       "      <td>NaN</td>\n",
       "      <td>Southampton</td>\n",
       "      <td>no</td>\n",
       "      <td>False</td>\n",
       "    </tr>\n",
       "    <tr>\n",
       "      <th>1</th>\n",
       "      <td>1</td>\n",
       "      <td>1</td>\n",
       "      <td>female</td>\n",
       "      <td>38.00000</td>\n",
       "      <td>1</td>\n",
       "      <td>0</td>\n",
       "      <td>71.28330</td>\n",
       "      <td>C</td>\n",
       "      <td>First</td>\n",
       "      <td>woman</td>\n",
       "      <td>False</td>\n",
       "      <td>C</td>\n",
       "      <td>Cherbourg</td>\n",
       "      <td>yes</td>\n",
       "      <td>False</td>\n",
       "    </tr>\n",
       "    <tr>\n",
       "      <th>2</th>\n",
       "      <td>1</td>\n",
       "      <td>3</td>\n",
       "      <td>female</td>\n",
       "      <td>26.00000</td>\n",
       "      <td>0</td>\n",
       "      <td>0</td>\n",
       "      <td>7.92500</td>\n",
       "      <td>S</td>\n",
       "      <td>Third</td>\n",
       "      <td>woman</td>\n",
       "      <td>False</td>\n",
       "      <td>NaN</td>\n",
       "      <td>Southampton</td>\n",
       "      <td>yes</td>\n",
       "      <td>True</td>\n",
       "    </tr>\n",
       "    <tr>\n",
       "      <th>3</th>\n",
       "      <td>1</td>\n",
       "      <td>1</td>\n",
       "      <td>female</td>\n",
       "      <td>35.00000</td>\n",
       "      <td>1</td>\n",
       "      <td>0</td>\n",
       "      <td>53.10000</td>\n",
       "      <td>S</td>\n",
       "      <td>First</td>\n",
       "      <td>woman</td>\n",
       "      <td>False</td>\n",
       "      <td>C</td>\n",
       "      <td>Southampton</td>\n",
       "      <td>yes</td>\n",
       "      <td>False</td>\n",
       "    </tr>\n",
       "    <tr>\n",
       "      <th>4</th>\n",
       "      <td>0</td>\n",
       "      <td>3</td>\n",
       "      <td>male</td>\n",
       "      <td>35.00000</td>\n",
       "      <td>0</td>\n",
       "      <td>0</td>\n",
       "      <td>8.05000</td>\n",
       "      <td>S</td>\n",
       "      <td>Third</td>\n",
       "      <td>man</td>\n",
       "      <td>True</td>\n",
       "      <td>NaN</td>\n",
       "      <td>Southampton</td>\n",
       "      <td>no</td>\n",
       "      <td>True</td>\n",
       "    </tr>\n",
       "  </tbody>\n",
       "</table>\n",
       "</div>"
      ],
      "text/plain": [
       "   survived  pclass     sex      age  sibsp  parch     fare embarked  class  \\\n",
       "0         0       3    male 22.00000      1      0  7.25000        S  Third   \n",
       "1         1       1  female 38.00000      1      0 71.28330        C  First   \n",
       "2         1       3  female 26.00000      0      0  7.92500        S  Third   \n",
       "3         1       1  female 35.00000      1      0 53.10000        S  First   \n",
       "4         0       3    male 35.00000      0      0  8.05000        S  Third   \n",
       "\n",
       "     who  adult_male deck  embark_town alive  alone  \n",
       "0    man        True  NaN  Southampton    no  False  \n",
       "1  woman       False    C    Cherbourg   yes  False  \n",
       "2  woman       False  NaN  Southampton   yes   True  \n",
       "3  woman       False    C  Southampton   yes  False  \n",
       "4    man        True  NaN  Southampton    no   True  "
      ]
     },
     "execution_count": 54,
     "metadata": {},
     "output_type": "execute_result"
    }
   ],
   "source": [
    "############################\n",
    "# Uygulama: Kadın ve Erkeklerin Hayatta Kalma Oranları Arasında İst. Olarak An. Farklılık var mıdır?\n",
    "############################\n",
    "\n",
    "# H0: p1 = p2\n",
    "# Kadın ve Erkeklerin Hayatta Kalma Oranları Arasında İst. Olarak An. Fark yoktur\n",
    "\n",
    "# H1: p1 != p2\n",
    "# .. vardır\n",
    "\n",
    "df = sns.load_dataset(\"titanic\")\n",
    "df.head()"
   ]
  },
  {
   "cell_type": "code",
   "execution_count": 55,
   "metadata": {},
   "outputs": [
    {
     "data": {
      "text/plain": [
       "0.18890814558058924"
      ]
     },
     "execution_count": 55,
     "metadata": {},
     "output_type": "execute_result"
    }
   ],
   "source": [
    "# kadınların hayatta kalma oranı\n",
    "df.loc[df[\"sex\"] == \"female\",\"survived\"].mean()\n",
    "\n",
    "#erkeklerin hayatta kalma oranı\n",
    "df.loc[df[\"sex\"]==\"male\",\"survived\"].mean()\n"
   ]
  },
  {
   "cell_type": "code",
   "execution_count": 56,
   "metadata": {},
   "outputs": [
    {
     "name": "stdout",
     "output_type": "stream",
     "text": [
      "t_test: 6.7927 \n",
      "p_value: 0.0000\n"
     ]
    }
   ],
   "source": [
    "# testin uygulanması\n",
    "# proportions fonksiyonunun bizden beklediği başarı sayısı ve toplam gözlem sayısı\n",
    "\n",
    "from statsmodels.stats.proportion import proportions_ztest\n",
    "\n",
    "# başarı sayıları:\n",
    "\n",
    "female_succ_count = df.loc [df[\"sex\"]==\"female\",\"survived\"].sum()\n",
    "male_succ_count = df.loc [df[\"sex\"]==\"male\",\"survived\"].sum()\n",
    "\n",
    "proportions_ztest(count=[female_succ_count,male_succ_count], \n",
    "                  nobs = [df.loc [df[\"sex\"]==\"female\",\"survived\"].shape[0],df.loc [df[\"sex\"]==\"male\",\"survived\"].shape[0]])\n",
    "\n",
    "print(\"t_test: %.4f \\np_value: %.4f\" %(t_test,p_value))\n",
    "\n",
    "# h0 red \n",
    "# anlamlı bir farklılık vardır."
   ]
  },
  {
   "attachments": {},
   "cell_type": "markdown",
   "metadata": {},
   "source": [
    "----------"
   ]
  },
  {
   "attachments": {},
   "cell_type": "markdown",
   "metadata": {},
   "source": [
    "#### İkiden Fazla Grup Ortalaması Karşılaştırma ( ANOVA-Analysis of Variance )\n",
    "\n",
    "Anova analizi birden fazla grup arasında farkın olup olmadığını inceler.\n",
    "\n",
    "Varsayımlar:\n",
    "\n",
    "- nomrallik varsayımı\n",
    "- homojen dağılımı varsayımı\n",
    "\n",
    "varsayımlar sağlanıyorsa ==>  one way anova \n",
    "varsayım sağlanmıyorsa ==> kruksal\n",
    "\n",
    "yöntemleri kullanılır."
   ]
  },
  {
   "cell_type": "code",
   "execution_count": 58,
   "metadata": {},
   "outputs": [
    {
     "data": {
      "text/html": [
       "<div>\n",
       "<style scoped>\n",
       "    .dataframe tbody tr th:only-of-type {\n",
       "        vertical-align: middle;\n",
       "    }\n",
       "\n",
       "    .dataframe tbody tr th {\n",
       "        vertical-align: top;\n",
       "    }\n",
       "\n",
       "    .dataframe thead th {\n",
       "        text-align: right;\n",
       "    }\n",
       "</style>\n",
       "<table border=\"1\" class=\"dataframe\">\n",
       "  <thead>\n",
       "    <tr style=\"text-align: right;\">\n",
       "      <th></th>\n",
       "      <th>total_bill</th>\n",
       "      <th>tip</th>\n",
       "      <th>sex</th>\n",
       "      <th>smoker</th>\n",
       "      <th>day</th>\n",
       "      <th>time</th>\n",
       "      <th>size</th>\n",
       "    </tr>\n",
       "  </thead>\n",
       "  <tbody>\n",
       "    <tr>\n",
       "      <th>0</th>\n",
       "      <td>16.99000</td>\n",
       "      <td>1.01000</td>\n",
       "      <td>Female</td>\n",
       "      <td>No</td>\n",
       "      <td>Sun</td>\n",
       "      <td>Dinner</td>\n",
       "      <td>2</td>\n",
       "    </tr>\n",
       "    <tr>\n",
       "      <th>1</th>\n",
       "      <td>10.34000</td>\n",
       "      <td>1.66000</td>\n",
       "      <td>Male</td>\n",
       "      <td>No</td>\n",
       "      <td>Sun</td>\n",
       "      <td>Dinner</td>\n",
       "      <td>3</td>\n",
       "    </tr>\n",
       "    <tr>\n",
       "      <th>2</th>\n",
       "      <td>21.01000</td>\n",
       "      <td>3.50000</td>\n",
       "      <td>Male</td>\n",
       "      <td>No</td>\n",
       "      <td>Sun</td>\n",
       "      <td>Dinner</td>\n",
       "      <td>3</td>\n",
       "    </tr>\n",
       "    <tr>\n",
       "      <th>3</th>\n",
       "      <td>23.68000</td>\n",
       "      <td>3.31000</td>\n",
       "      <td>Male</td>\n",
       "      <td>No</td>\n",
       "      <td>Sun</td>\n",
       "      <td>Dinner</td>\n",
       "      <td>2</td>\n",
       "    </tr>\n",
       "    <tr>\n",
       "      <th>4</th>\n",
       "      <td>24.59000</td>\n",
       "      <td>3.61000</td>\n",
       "      <td>Female</td>\n",
       "      <td>No</td>\n",
       "      <td>Sun</td>\n",
       "      <td>Dinner</td>\n",
       "      <td>4</td>\n",
       "    </tr>\n",
       "  </tbody>\n",
       "</table>\n",
       "</div>"
      ],
      "text/plain": [
       "   total_bill     tip     sex smoker  day    time  size\n",
       "0    16.99000 1.01000  Female     No  Sun  Dinner     2\n",
       "1    10.34000 1.66000    Male     No  Sun  Dinner     3\n",
       "2    21.01000 3.50000    Male     No  Sun  Dinner     3\n",
       "3    23.68000 3.31000    Male     No  Sun  Dinner     2\n",
       "4    24.59000 3.61000  Female     No  Sun  Dinner     4"
      ]
     },
     "execution_count": 58,
     "metadata": {},
     "output_type": "execute_result"
    }
   ],
   "source": [
    "# dataset dahil edilmesi\n",
    "df = sns.load_dataset(\"tips\")\n",
    "df.head()"
   ]
  },
  {
   "cell_type": "code",
   "execution_count": 59,
   "metadata": {},
   "outputs": [
    {
     "data": {
      "text/plain": [
       "day\n",
       "Thur   17.68274\n",
       "Fri    17.15158\n",
       "Sat    20.44138\n",
       "Sun    21.41000\n",
       "Name: total_bill, dtype: float64"
      ]
     },
     "execution_count": 59,
     "metadata": {},
     "output_type": "execute_result"
    }
   ],
   "source": [
    "df.groupby(\"day\")[\"total_bill\"].mean()"
   ]
  },
  {
   "cell_type": "code",
   "execution_count": 60,
   "metadata": {},
   "outputs": [],
   "source": [
    "#1)\n",
    "# hipotez kurulması\n",
    "# grup ortalalamarı arasında fark yoktur.\n",
    "\n",
    "#HO: m1=m2=m3=m4\n",
    "#H!: ... fark vardır.\n",
    "\n",
    "#2)\n",
    "# varsayımların kontrolü\n",
    "# normallik ve varyans homojenliği varsayımı\n"
   ]
  },
  {
   "cell_type": "code",
   "execution_count": 65,
   "metadata": {},
   "outputs": [
    {
     "name": "stdout",
     "output_type": "stream",
     "text": [
      "Sun p-value 0.0036\n",
      "Sat p-value 0.0000\n",
      "Thur p-value 0.0000\n",
      "Fri p-value 0.0409\n"
     ]
    }
   ],
   "source": [
    "# normallik varsayımı \n",
    "\n",
    "\n",
    "# kategorik değişkenin sınıfları üzerinde normallik varsayımı sorguluyoruz.\n",
    "for group in list(df[\"day\"].unique()):\n",
    "    pvalue = shapiro(df.loc [df[\"day\"]==group,\"total_bill\"])[1]\n",
    "    print(group,\"p-value %.4f\" % pvalue)\n",
    "    \n",
    "# p<0.05 | HO red edilir \n",
    "# normallik varsayımı sağlanmaz.\n"
   ]
  },
  {
   "cell_type": "code",
   "execution_count": 67,
   "metadata": {},
   "outputs": [
    {
     "name": "stdout",
     "output_type": "stream",
     "text": [
      "T_test : 0.6654 \n",
      "P_value: 0.5741\n"
     ]
    }
   ],
   "source": [
    "# Varyans homojenliği\n",
    "\n",
    "\n",
    "t_test,pvalue = levene(df.loc [df[\"day\"]==\"Sun\",\"total_bill\"],\n",
    "                               df.loc [df[\"day\"]==\"Sat\",\"total_bill\"],\n",
    "                               df.loc [df[\"day\"]==\"Thur\",\"total_bill\"],\n",
    "                               df.loc [df[\"day\"]==\"Fri\",\"total_bill\"])\n",
    "\n",
    "\n",
    "print(\"T_test : %.4f \\nP_value: %.4f\" %(t_test,pvalue))\n",
    "\n",
    "\n",
    "# HO red edilemez.\n",
    "# Homojen varsayımı sağlanır.\n",
    "\n"
   ]
  },
  {
   "cell_type": "code",
   "execution_count": 74,
   "metadata": {},
   "outputs": [
    {
     "name": "stdout",
     "output_type": "stream",
     "text": [
      "T_test : 10.4031 \n",
      "P_value: 0.0154\n"
     ]
    }
   ],
   "source": [
    "# Hipotez Testi ve p-value değeri yorumlanması \n",
    "# HO: Grup ortalamaları arasında istatistik olarak anlamlı fark yoktur.\n",
    "\n",
    "t_test,pvalue = kruskal(df.loc[df[\"day\"] == \"Thur\",\"total_bill\"],\n",
    "         df.loc[df[\"day\"] == \"Fri\",\"total_bill\"],\n",
    "         df.loc[df[\"day\"] == \"Sat\",\"total_bill\"],\n",
    "         df.loc[df[\"day\"] == \"Sun\",\"total_bill\"],\n",
    "         )\n",
    "\n",
    "print(\"T_test : %.4f \\nP_value: %.4f\" %(t_test,pvalue))\n",
    "\n",
    "# p < 0.05 \n",
    "# HO red edilir.\n",
    "# Anlamlı bir farklılık vardır.\n"
   ]
  },
  {
   "cell_type": "code",
   "execution_count": 73,
   "metadata": {},
   "outputs": [
    {
     "name": "stdout",
     "output_type": "stream",
     "text": [
      "T_test : 2.7675 \n",
      "P_value: 0.0425\n"
     ]
    }
   ],
   "source": [
    "# Varsayımın sağlandığı senorya için hipotez testi aşaması;\n",
    "\n",
    "t_test,pvalue = f_oneway(df.loc[df[\"day\"] == \"Thur\",\"total_bill\"],\n",
    "         df.loc[df[\"day\"] == \"Fri\",\"total_bill\"],\n",
    "         df.loc[df[\"day\"] == \"Sat\",\"total_bill\"],\n",
    "         df.loc[df[\"day\"] == \"Sun\",\"total_bill\"],\n",
    "         )\n",
    "\n",
    "print(\"T_test : %.4f \\nP_value: %.4f\" %(t_test,pvalue))\n",
    "\n",
    "# ho red edilir. \n",
    "# anlamlı bir farklılık vardır.\n"
   ]
  },
  {
   "cell_type": "code",
   "execution_count": 80,
   "metadata": {},
   "outputs": [
    {
     "name": "stdout",
     "output_type": "stream",
     "text": [
      "Multiple Comparison of Means - Tukey HSD, FWER=0.10\n",
      "===================================================\n",
      "group1 group2 meandiff p-adj   lower  upper  reject\n",
      "---------------------------------------------------\n",
      "   Fri    Sat   3.2898 0.4541 -1.8481 8.4277  False\n",
      "   Fri    Sun   4.2584 0.2371 -0.9457 9.4626  False\n",
      "   Fri   Thur   0.5312 0.9957 -4.7892 5.8515  False\n",
      "   Sat    Sun   0.9686 0.8968  -2.217 4.1543  False\n",
      "   Sat   Thur  -2.7586 0.2374 -6.1308 0.6135  False\n",
      "   Sun   Thur  -3.7273 0.0668 -7.1995 -0.255   True\n",
      "---------------------------------------------------\n"
     ]
    }
   ],
   "source": [
    "# yeni problem:\n",
    "# Farklılık vardır ama farklılık hangi sınıftan kaynaklanmaktadır. ? \n",
    "\n",
    "\n",
    "from statsmodels.stats.multicomp import MultiComparison\n",
    "\n",
    "comparison = MultiComparison(df[\"total_bill\"],df[\"day\"])\n",
    "tukey = comparison.tukeyhsd(0.10)\n",
    "print(tukey.summary())"
   ]
  },
  {
   "cell_type": "code",
   "execution_count": null,
   "metadata": {},
   "outputs": [],
   "source": []
  }
 ],
 "metadata": {
  "kernelspec": {
   "display_name": "base",
   "language": "python",
   "name": "python3"
  },
  "language_info": {
   "codemirror_mode": {
    "name": "ipython",
    "version": 3
   },
   "file_extension": ".py",
   "mimetype": "text/x-python",
   "name": "python",
   "nbconvert_exporter": "python",
   "pygments_lexer": "ipython3",
   "version": "3.9.13"
  },
  "orig_nbformat": 4
 },
 "nbformat": 4,
 "nbformat_minor": 2
}
